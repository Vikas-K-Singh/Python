{
 "cells": [
  {
   "cell_type": "code",
   "execution_count": 51,
   "metadata": {},
   "outputs": [],
   "source": [
    "import requests\n",
    "import bs4\n",
    "from bs4 import BeautifulSoup\n",
    "import re\n",
    "#Wikipedia Url\n",
    "weburl = 'https://en.wikipedia.org/wiki/Mahatma_Gandhi'\n",
    "\n",
    "myurl = requests.get(weburl)\n",
    "\n",
    "soup = bs4.BeautifulSoup(myurl.text, 'html.parser')\n",
    "#soup\n",
    "imgs = soup.find_all('img')\n",
    "urls = [img['src'] for img in imgs]\n",
    "\n",
    "# \n",
    "for imgurl in urls:\n",
    "    #print(urls)\n",
    "    # using Raw Strings as r'expression' format\n",
    "    filename = re.search(r'/([\\w_-]+Gandhi[\\w_-]+[.](jpg|gif|png|tif|tiff|jpeg|jif|jfif|jp2|jpx|fpx))$', imgurl)\n",
    "    #print(filename)\n",
    "\n",
    "    if filename!=None:\n",
    "        with open(filename.group(1), 'wb') as f:\n",
    "            if 'http' not in imgurl: \n",
    "                #url = '{}{}'.format(weburl, imgurl) #If given url is base url/relative path\n",
    "                url='https:'+imgurl\n",
    "            response = requests.get(url)\n",
    "            f.write(response.content)"
   ]
  }
 ],
 "metadata": {
  "kernelspec": {
   "display_name": "Python 3",
   "language": "python",
   "name": "python3"
  },
  "language_info": {
   "codemirror_mode": {
    "name": "ipython",
    "version": 3
   },
   "file_extension": ".py",
   "mimetype": "text/x-python",
   "name": "python",
   "nbconvert_exporter": "python",
   "pygments_lexer": "ipython3",
   "version": "3.7.1"
  }
 },
 "nbformat": 4,
 "nbformat_minor": 2
}
